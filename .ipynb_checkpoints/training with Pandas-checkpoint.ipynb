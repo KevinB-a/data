{
 "cells": [
  {
   "cell_type": "markdown",
   "metadata": {},
   "source": [
    "importer la librairie pandas et renommer la en pd"
   ]
  },
  {
   "cell_type": "markdown",
   "metadata": {},
   "source": [
    "Créer un DataFrame food_info via le fichier csv food_info.csv"
   ]
  },
  {
   "cell_type": "markdown",
   "metadata": {},
   "source": [
    "Sélectionner une ligne Assigner la 100 eme ligne du dataframe food_info à la variable row_100 afficher le resultat."
   ]
  },
  {
   "cell_type": "markdown",
   "metadata": {},
   "source": [
    "Je voudrais connaitre le nombre de ligne effectives dans la colonne \"Water_(g)\" (Combien de lignes sont avec du contenu \" donc sans la valeur NaN\")\n",
    "Assigner le résultat sous c_water et afficher le résultat \n",
    "pour info : https://pandas.pydata.org/pandas-docs/stable/reference/frame.html"
   ]
  },
  {
   "cell_type": "code",
   "execution_count": null,
   "metadata": {},
   "outputs": [],
   "source": []
  },
  {
   "cell_type": "markdown",
   "metadata": {},
   "source": [
    "Sélectionner les 5 dernieres lignes de food_info et assigner à la variable last_rows.\n",
    "Recommencer mais d'une autre façon en assignant la variable last_rows2"
   ]
  },
  {
   "cell_type": "code",
   "execution_count": null,
   "metadata": {},
   "outputs": [],
   "source": []
  },
  {
   "cell_type": "markdown",
   "metadata": {},
   "source": [
    "Assigner la colonne \"protein_(g)\" à la variable protein.\n",
    "Assigner la colonne \"Cholestrl_(mg)\" à la variable cholesterol.\n",
    "Afficher les resultats"
   ]
  },
  {
   "cell_type": "code",
   "execution_count": null,
   "metadata": {},
   "outputs": [],
   "source": []
  },
  {
   "cell_type": "markdown",
   "metadata": {},
   "source": [
    "Sélectionner les colonnes \"Shrt_Desc\", \"Selenium_(mcg)\" et \"Thiamin_(mg)\" et assigner le DataFrame resultant à la variable selenium_thiamin.\n",
    "Afficher le résultat"
   ]
  },
  {
   "cell_type": "code",
   "execution_count": null,
   "metadata": {},
   "outputs": [],
   "source": []
  },
  {
   "cell_type": "markdown",
   "metadata": {},
   "source": [
    "# Cas pratique"
   ]
  },
  {
   "cell_type": "markdown",
   "metadata": {},
   "source": [
    "Selectionner et afficher seulement les colonnes qui utilisent comme unité de mesure les grammes (c'est à dire qui se termine par \"(g)\". Pour cela\n",
    "- Utiliser l'attribut columns pour retourner le nom des colonnes du dataframe food_info et convertir en liste utilisant la methode tolist()\n",
    "- Créer une nouvelle liste qu'on nommera gram_columns, contenant seulement les colonnes se terminant par \"(g)\". Indice: la méthode endswith() retourne True si l'objet sur lequel on l'applique se termine par l'élément entre parenthèse. ex: total(g).endswith(\"g\") retourne True. Une boucle for est fortement conseillé pour parcourir les noms de colonne.\n",
    "-Selectionner les colonnes de gram_columns pour le dataframe food_info et assigner le dataframe résultat à la variable gram_df\n",
    "- Afficher les 3 premieres valeurs de ce dataframe gram_df\n",
    "\n",
    "Voici la doc pandas au cas ou : https://pandas.pydata.org/pandas-docs/stable/reference/io.html"
   ]
  },
  {
   "cell_type": "code",
   "execution_count": null,
   "metadata": {},
   "outputs": [],
   "source": []
  },
  {
   "cell_type": "markdown",
   "metadata": {},
   "source": [
    "\n",
    "Importer la librairie Pandas.\n",
    "\n",
    "Lire le fichier \"food_info.csv\" dans un dataframe qu'on nommera food_info.\n",
    "\n",
    "Utiliser l'attribut DataFrame columns suivi de la méthode Index.tolist() pour retourner une liste contenant tous les noms de colonne de food_info.\n",
    "\n",
    "Assigner la liste resultante à la variable col-names et utiliser la fonction print() pour afficher le nom des colonnes.\n",
    "\n",
    "Enfin afficher les 3 premiers éléments de food_info"
   ]
  },
  {
   "cell_type": "code",
   "execution_count": null,
   "metadata": {},
   "outputs": [],
   "source": []
  },
  {
   "cell_type": "markdown",
   "metadata": {},
   "source": [
    "# Transformer une colonne (pratique)"
   ]
  },
  {
   "cell_type": "markdown",
   "metadata": {},
   "source": [
    "- Diviser la colonne \"Sodium_(mg)\" par 1000 pour convertir cette colonne en grammes et assigner le resultat à la variable sodium_grams.\n",
    "\n",
    "- Multiplier la colonne \"Sugar_Tot(g)\" par 1000 pour convertir en milligrammes et assigner le resultat à la variable sugar_milligrams."
   ]
  },
  {
   "cell_type": "code",
   "execution_count": null,
   "metadata": {},
   "outputs": [],
   "source": []
  },
  {
   "cell_type": "markdown",
   "metadata": {},
   "source": [
    "# Opérations mathématiques entre colonnes (pratique)"
   ]
  },
  {
   "cell_type": "markdown",
   "metadata": {},
   "source": [
    "- Diviser la colonne \"Protein(g)\" par la colonne \"Water(g)\" et assigner le résultat à la variable grams_of_protein_per_gram_of_water.\n",
    "\n",
    "- Additionner les colonnes \"Calcium(mg)\" et \"Iron(mg\" et assigner le résultat à la variable milligrams_of_calcium_and_iron.\n",
    "\n",
    "- Afficher les resultats"
   ]
  },
  {
   "cell_type": "code",
   "execution_count": null,
   "metadata": {},
   "outputs": [],
   "source": []
  },
  {
   "cell_type": "markdown",
   "metadata": {},
   "source": [
    "# Créer un indice nutritionnel (pratique)"
   ]
  },
  {
   "cell_type": "markdown",
   "metadata": {},
   "source": [
    "Score = 2 x (Protein_(g)) - 0.75 x (LipidTot(g))"
   ]
  },
  {
   "cell_type": "markdown",
   "metadata": {},
   "source": [
    "- Multiplier la colonne \"Protein_(g)\" par 2 et assigner le résultat à la variable protein.\n",
    "\n",
    "- Multiplier la colonne \"LipidTot(g)\" par -0.75 et assigner le résultat à la variable fat.\n",
    "\n",
    "- Additionner les variables ensemble et assigner le résultat à la variable rating.\n",
    "\n",
    "- Afficher le résultat."
   ]
  },
  {
   "cell_type": "code",
   "execution_count": null,
   "metadata": {},
   "outputs": [],
   "source": []
  },
  {
   "cell_type": "markdown",
   "metadata": {},
   "source": [
    "# Normaliser des colonnes (pratique)"
   ]
  },
  {
   "cell_type": "markdown",
   "metadata": {},
   "source": [
    "- Normaliser les valeurs de la colonne \"Protein_(g)\" et assigner le resultat à la variable normalized_protein.\n",
    "\n",
    "- Normaliser les valeurs de la colonne \"Lipid_tot_(g)\" et assigner à la variable normalized_fat.\n",
    "\n",
    "- Afficher les variables normalized_protein et normalized_fat"
   ]
  },
  {
   "cell_type": "code",
   "execution_count": 8,
   "metadata": {},
   "outputs": [],
   "source": [
    "# en cours"
   ]
  },
  {
   "cell_type": "markdown",
   "metadata": {},
   "source": [
    "# Créer une nouvelle colonne (pratique)"
   ]
  },
  {
   "cell_type": "markdown",
   "metadata": {},
   "source": [
    "Assigner la colonne normalisée representée par la variable normalized_protein à la nouvelle colonne qu'on nommera \"Normalized_Protein\" dans le DataFrame food_info.\n",
    "\n",
    "Assigner la colonne normalisée représentée par la variable normalized_fat à la nouvelle colonne qu'on nommera \"Normalized_Fat\" dans le DataFrame food_info.\n",
    "\n",
    "Afficher les 5 premieres valeurs du DataFrame food_info"
   ]
  },
  {
   "cell_type": "code",
   "execution_count": null,
   "metadata": {},
   "outputs": [],
   "source": []
  },
  {
   "cell_type": "markdown",
   "metadata": {},
   "source": [
    "# Créer un indice nutritionnel normalisé"
   ]
  },
  {
   "cell_type": "markdown",
   "metadata": {},
   "source": [
    "Score = 2 x Normalized_Protein - 0.75 x Normalized_Fat\n",
    "\n",
    "Utiliser les colonnes Normalized_Protein et Normalized_Fat avec cette formule pour créer une nouvelle colonne qu'on nommera Norm_Nutr_Index.\n",
    "\n",
    "Afficher le DataFrame food_info ( Les 3 premieres lignes )"
   ]
  },
  {
   "cell_type": "code",
   "execution_count": null,
   "metadata": {},
   "outputs": [],
   "source": []
  },
  {
   "cell_type": "markdown",
   "metadata": {},
   "source": [
    "# Trier un DataFrame (pratique)"
   ]
  },
  {
   "cell_type": "markdown",
   "metadata": {},
   "source": [
    "- Remplacer le DataFrame food_info en triant par rapport à la colonne Norm_Nutr_Index de façon decroissante (du plus grand au plus petit).\n",
    "\n",
    "- Afficher les 3 premiéres lignes."
   ]
  },
  {
   "cell_type": "code",
   "execution_count": 9,
   "metadata": {},
   "outputs": [],
   "source": [
    "# en cours"
   ]
  },
  {
   "cell_type": "markdown",
   "metadata": {},
   "source": [
    "# Trouver les valeurs manquantes (pratique)"
   ]
  },
  {
   "cell_type": "markdown",
   "metadata": {},
   "source": [
    "Lire le DataSet titanic_survival.csv.\n",
    "\n",
    "Assigner titanic_survival au DataSet titanic_survival.csv"
   ]
  },
  {
   "cell_type": "markdown",
   "metadata": {},
   "source": [
    "Compter le nombre de valeurs dans la colonne \"age\" possédant des valeurs manquantes:\n",
    "\n",
    "- Assigner à la variable age la colonne des \"age\" du DataFrame titanic_survival.\n",
    "\n",
    "- Utiliser la Series résultante pour sélectionner seulement les élements de la colonne \"age\" qui sont nuls(NaN) et assigner le résultat à la variable age_null.\n",
    "\n",
    "- Assigner le nombre de valeur manquantes de age_null à la variale age_null_count (fonction len())\n",
    "\n",
    "-Afficher age_null_count pour voir le nombre de valeurs manquante de la colonne \"age\""
   ]
  },
  {
   "cell_type": "code",
   "execution_count": null,
   "metadata": {},
   "outputs": [],
   "source": []
  },
  {
   "cell_type": "markdown",
   "metadata": {},
   "source": [
    "# Calcul de la moyenne du prix (\"fare\")"
   ]
  },
  {
   "cell_type": "markdown",
   "metadata": {},
   "source": [
    "Assigner la moyenne de la colonne \"fare\" à la variable mean_fare et afficher le resultat."
   ]
  },
  {
   "cell_type": "code",
   "execution_count": null,
   "metadata": {},
   "outputs": [],
   "source": []
  },
  {
   "cell_type": "markdown",
   "metadata": {},
   "source": [
    "# Calculer des statistiques de prix"
   ]
  },
  {
   "cell_type": "markdown",
   "metadata": {},
   "source": [
    "- Créer un dictionnaire vide qu'on nommera fares_by_class.\n",
    "\n",
    "- Créer la liste passenger_classes qui contient les éléments [1, 2, 3].\n",
    "\n",
    "- Utiliser une boucle for pour parcourir la liste passenger_classes:\n",
    "\n",
    "Selectionner juste les lignes de titanic_survival pour lesquelles la colonne pclass est égale à la variable temporaire (l'itérateur) de la boucle for, c'est à dire correspondant au numéro de classe (1, 2 ou 3)\n",
    "\n",
    "Selectionner seulement la colonne \"fare\" pour ce sous-ensemble de lignes (correspondant à la classe)\n",
    "\n",
    "Utiliser la methode Series.mean() pour calculer la moyenne de ce sous-ensemble.\n",
    "\n",
    "Ajouter cette moyenne calculée de la classe au dictionnaire fares_by_class avec comme clé, le numero de la classe (et donc comme valeur la moyenne du prix du billet d'embarquement)\n",
    "\n",
    "- Une fois la boucle achevée, le dictionnaire fares_by_class devrait avoir 1, 2 et 3 comme clés avec en valeur les moyennes correspondantes.\n",
    "\n",
    "Il suffit d'afficher le résultat pour finir."
   ]
  },
  {
   "cell_type": "code",
   "execution_count": null,
   "metadata": {},
   "outputs": [],
   "source": []
  },
  {
   "cell_type": "markdown",
   "metadata": {},
   "source": [
    "# Introduction sur le pivot de table (pratique)"
   ]
  },
  {
   "cell_type": "markdown",
   "metadata": {},
   "source": [
    "Utiliser la méthode DataFrame.pivot_table() pour calculer la moyenne de l'age pour chaque classe de passager(\"pclass\")\n",
    "\n",
    "Assigner le resultat à la variable passenger_age\n",
    "\n",
    "Afficher passenger_age\n",
    "\n",
    "Faire de meme avaec la colonne survived pour chaque classe de passager."
   ]
  },
  {
   "cell_type": "code",
   "execution_count": null,
   "metadata": {},
   "outputs": [],
   "source": []
  },
  {
   "cell_type": "markdown",
   "metadata": {},
   "source": [
    "# Table pivot niveau 2"
   ]
  },
  {
   "cell_type": "code",
   "execution_count": null,
   "metadata": {},
   "outputs": [],
   "source": []
  },
  {
   "cell_type": "markdown",
   "metadata": {},
   "source": [
    "Faire un pivot de table qui calcule le total d'argent encaissé (\"fare\") et le nombre total de survivants (\"survived\") pour chaque port\n",
    "d'embarcation (\"embarked\").\n",
    "\n",
    "Il faudra utiliser la fonction numpy.sum()\n",
    "\n",
    "Assigner le résultat à la variable port_stats et afficher le resultat"
   ]
  },
  {
   "cell_type": "raw",
   "metadata": {},
   "source": [
    " "
   ]
  },
  {
   "cell_type": "code",
   "execution_count": null,
   "metadata": {},
   "outputs": [],
   "source": []
  },
  {
   "cell_type": "code",
   "execution_count": 2,
   "metadata": {},
   "outputs": [
    {
     "ename": "SyntaxError",
     "evalue": "invalid syntax (<ipython-input-2-36efddee2fc1>, line 2)",
     "output_type": "error",
     "traceback": [
      "\u001b[0;36m  File \u001b[0;32m\"<ipython-input-2-36efddee2fc1>\"\u001b[0;36m, line \u001b[0;32m2\u001b[0m\n\u001b[0;31m    port_stat = titanic_survival.pivot_table(index = \"embarked\" values = [\"fare\" , \"survived\"])\u001b[0m\n\u001b[0m                                                                     ^\u001b[0m\n\u001b[0;31mSyntaxError\u001b[0m\u001b[0;31m:\u001b[0m invalid syntax\n"
     ]
    }
   ],
   "source": [
    "import numpy as np \n",
    "port_stat = titanic_survival.pivot_table(index = \"embarked\" values = [\"fare\" , \"survived\"])\n",
    "port_stat"
   ]
  },
  {
   "cell_type": "markdown",
   "metadata": {},
   "source": [
    "# Eliminer les valeurs manquantes (pratique)"
   ]
  },
  {
   "cell_type": "markdown",
   "metadata": {},
   "source": [
    "Supprimer toutes les lignes de titanic_survival pour lesquelles les colonnes \"age\" ou \"sex\" ont des valeurs manquantes et assigner le resultat à la variable new_titanic_survival.\n",
    "\n",
    "Comparer le nombre de lignes qu'il reste avec l'attribut shape."
   ]
  },
  {
   "cell_type": "code",
   "execution_count": 7,
   "metadata": {},
   "outputs": [],
   "source": [
    "# les colonnes \"age\" et \"sex\" ne presenteront aucunes valeurs manquantes"
   ]
  },
  {
   "cell_type": "code",
   "execution_count": null,
   "metadata": {},
   "outputs": [],
   "source": [
    "new_titanic_survival = titanic_survival.dropna(axis = 0\n",
    "\n",
    "\n",
    "\n"
   ]
  },
  {
   "cell_type": "markdown",
   "metadata": {},
   "source": [
    "# Iloc pour accéder à des lignes (pratique)"
   ]
  },
  {
   "cell_type": "markdown",
   "metadata": {},
   "source": [
    "Nous utiliserons titanic_survival de la pratique precedente.\n",
    "\n",
    "Assigner les 10 premieres lignes de titanic_survival à la variable first_ten_rows.\n",
    "\n",
    "Assigner la 5eme ligne de titanic_survival à la variable row_position_fifth.\n",
    "\n",
    "Assigner la ligne dont l'ontitulé d'index est 25 pour titanic_survival à la variable row_index_25."
   ]
  },
  {
   "cell_type": "code",
   "execution_count": null,
   "metadata": {},
   "outputs": [],
   "source": []
  },
  {
   "cell_type": "markdown",
   "metadata": {},
   "source": [
    "# Les index de colonne (pratique)\n"
   ]
  },
  {
   "cell_type": "markdown",
   "metadata": {},
   "source": [
    "Assigner la valeur d'intitulé de ligne 1100 pour la colonne \"age\" de new_titanic_survival à la variable row_index_1100_age.\n",
    "\n",
    "Assigner la valeur d'intitulé de ligne 25 pour la colonne \"survived\" de new_titanic_survival à la variable row_index_25_survived.\n",
    "\n",
    "Afficher tous les resultats\n",
    "\n",
    "Afficher via five_rows_three_cols la liste des 5 premieres positions du DataFrame new_titanic_survival ainsi que les 3 premieres colonnes."
   ]
  },
  {
   "cell_type": "code",
   "execution_count": null,
   "metadata": {},
   "outputs": [],
   "source": []
  },
  {
   "cell_type": "markdown",
   "metadata": {},
   "source": [
    "# Réindexer les lignes d'un DataFrame (pratique)"
   ]
  },
  {
   "cell_type": "code",
   "execution_count": null,
   "metadata": {},
   "outputs": [],
   "source": []
  },
  {
   "cell_type": "markdown",
   "metadata": {},
   "source": [
    "- Ré-indexer le DataFrame new_titanic_survival pour que la premiere ligne commence par 0 et supprimer l'ancien indexage.\n",
    "\n",
    "- Assigner le résultat à la variable titanic_reindexed.\n",
    "\n",
    "- Afficher les 5 premieres lignes et 3 premieres colonnes de titanic_reindexed."
   ]
  },
  {
   "cell_type": "code",
   "execution_count": null,
   "metadata": {},
   "outputs": [],
   "source": [
    "titanic_reindexed = new_titanic_survival.reset_index(drop = True)\n",
    "titanic_reindexed = "
   ]
  },
  {
   "cell_type": "markdown",
   "metadata": {},
   "source": [
    "# Appliquer des fonctions sur un DataFrame (pratique)"
   ]
  },
  {
   "cell_type": "markdown",
   "metadata": {},
   "source": [
    "Ecrire une fonction qui compte le nombre d'élements manquants d'un objet Series.\n",
    "\n",
    "Utiliser la methode DataFrame.apply() pour appliquer votre fonction sur titanic_survival.\n",
    "\n",
    "Assigner le résultat à la variable column_null_count\n",
    "\n",
    "Afficher le résultat"
   ]
  },
  {
   "cell_type": "code",
   "execution_count": 16,
   "metadata": {},
   "outputs": [],
   "source": [
    "def null_count(column):\n",
    "    column_null = pd.isnull(column)\n",
    "    null = column[column_null]\n",
    "    return len(null)"
   ]
  },
  {
   "cell_type": "code",
   "execution_count": 17,
   "metadata": {},
   "outputs": [
    {
     "name": "stdout",
     "output_type": "stream",
     "text": [
      "pclass          1\n",
      "survived        1\n",
      "name            1\n",
      "sex             1\n",
      "age           264\n",
      "sibsp           1\n",
      "parch           1\n",
      "ticket          1\n",
      "fare            2\n",
      "cabin        1015\n",
      "embarked        3\n",
      "boat          824\n",
      "body         1189\n",
      "home.dest     565\n",
      "dtype: int64\n"
     ]
    }
   ],
   "source": [
    "import pandas as pd\n",
    "titanic_survival = pd.read_csv(\"titanic_survival.csv\")\n",
    "column_null_count = titanic_survival.apply(null_count)\n",
    "print(column_null_count)"
   ]
  },
  {
   "cell_type": "markdown",
   "metadata": {},
   "source": [
    "# Appliquer une fonction à une ligne (pratique)"
   ]
  },
  {
   "cell_type": "markdown",
   "metadata": {},
   "source": [
    "Créer une fonction qui retourne la chaine de caracteres \"minior\" pour quelqu'un de moins de 18 ans, \"adult\" si son age est superieur ou égal à 18 et \"unknown\" si la valeur est manquante.\n",
    "Utiliser cette fonction avec la méthode apply() pour trouver l'intitulé pour chaque passagers du DataFrame titanic_survival\n",
    "\n",
    "Assigner le resultat à la variable age_labels\n",
    "\n",
    "Afficher le résultat"
   ]
  },
  {
   "cell_type": "code",
   "execution_count": 13,
   "metadata": {},
   "outputs": [
    {
     "data": {
      "text/plain": [
       "0         adult\n",
       "1         minor\n",
       "2         minor\n",
       "3         adult\n",
       "4         adult\n",
       "         ...   \n",
       "1305    unknown\n",
       "1306      adult\n",
       "1307      adult\n",
       "1308      adult\n",
       "1309    unknown\n",
       "Length: 1310, dtype: object"
      ]
     },
     "execution_count": 13,
     "metadata": {},
     "output_type": "execute_result"
    }
   ],
   "source": [
    "def minor_or_adult(row):\n",
    "    age = row[\"age\"]\n",
    "    if age > 18:\n",
    "        return \"adult\"\n",
    "    elif pd.isnull(age):\n",
    "        return \"unknown\"\n",
    "    else :\n",
    "        return \"minor\"\n",
    "\n",
    "import pandas as pd\n",
    "titanic_survival = pd.read_csv(\"titanic_survival.csv\")\n",
    "age_labels = titanic_survival.apply(minor_or_adult, axis = 1)\n",
    "age_labels"
   ]
  },
  {
   "cell_type": "markdown",
   "metadata": {},
   "source": [
    "# Pratique: Calculer le pourcentage de survie par groupe d'âge"
   ]
  },
  {
   "cell_type": "markdown",
   "metadata": {},
   "source": [
    "Ajouter la colonne \"age_labels\" au DataFrame titanic_survival contenant la variable age_labels qu'on a crée dans l'exo prècedent.\n",
    "\n",
    "Créer une table pivot qui calcule la moyenne de chance de survie (colonne \"survived\") pour chaque groupe d'age (colonne \"age_labels\") du DataFrame titanic_survival\n",
    "\n",
    "Assigner l'objet Series résultant à la variable age_group_survival\n",
    "\n",
    "Afficher le résultat"
   ]
  },
  {
   "cell_type": "markdown",
   "metadata": {},
   "source": [
    "# Challenge : Analyser de la Data"
   ]
  },
  {
   "cell_type": "markdown",
   "metadata": {},
   "source": [
    "Introduction au Dataset\n",
    "\n",
    "- Lire all-ages.csv dans un DataFrame et l'assigner à la variable all_ages.\n",
    "\n",
    "- Lire recent-grads.csv dans un DataFrame et l'assigner à la variable recent_grads.\n",
    "\n",
    "- Afficher les 5 premieres lignes de all_ages et recent_grads"
   ]
  },
  {
   "cell_type": "code",
   "execution_count": 3,
   "metadata": {},
   "outputs": [
    {
     "data": {
      "text/html": [
       "<div>\n",
       "<style scoped>\n",
       "    .dataframe tbody tr th:only-of-type {\n",
       "        vertical-align: middle;\n",
       "    }\n",
       "\n",
       "    .dataframe tbody tr th {\n",
       "        vertical-align: top;\n",
       "    }\n",
       "\n",
       "    .dataframe thead th {\n",
       "        text-align: right;\n",
       "    }\n",
       "</style>\n",
       "<table border=\"1\" class=\"dataframe\">\n",
       "  <thead>\n",
       "    <tr style=\"text-align: right;\">\n",
       "      <th></th>\n",
       "      <th>Major_code</th>\n",
       "      <th>Major</th>\n",
       "      <th>Major_category</th>\n",
       "      <th>Total</th>\n",
       "      <th>Employed</th>\n",
       "      <th>Employed_full_time_year_round</th>\n",
       "      <th>Unemployed</th>\n",
       "      <th>Unemployment_rate</th>\n",
       "      <th>Median</th>\n",
       "      <th>P25th</th>\n",
       "      <th>P75th</th>\n",
       "    </tr>\n",
       "  </thead>\n",
       "  <tbody>\n",
       "    <tr>\n",
       "      <th>0</th>\n",
       "      <td>1100</td>\n",
       "      <td>GENERAL AGRICULTURE</td>\n",
       "      <td>Agriculture &amp; Natural Resources</td>\n",
       "      <td>128148.0</td>\n",
       "      <td>90245.0</td>\n",
       "      <td>74078.0</td>\n",
       "      <td>2423.0</td>\n",
       "      <td>0.026147</td>\n",
       "      <td>50000.0</td>\n",
       "      <td>34000.0</td>\n",
       "      <td>80000.0</td>\n",
       "    </tr>\n",
       "    <tr>\n",
       "      <th>1</th>\n",
       "      <td>1101</td>\n",
       "      <td>AGRICULTURE PRODUCTION AND MANAGEMENT</td>\n",
       "      <td>Agriculture &amp; Natural Resources</td>\n",
       "      <td>95326.0</td>\n",
       "      <td>76865.0</td>\n",
       "      <td>64240.0</td>\n",
       "      <td>2266.0</td>\n",
       "      <td>0.028636</td>\n",
       "      <td>54000.0</td>\n",
       "      <td>36000.0</td>\n",
       "      <td>80000.0</td>\n",
       "    </tr>\n",
       "    <tr>\n",
       "      <th>2</th>\n",
       "      <td>1102</td>\n",
       "      <td>AGRICULTURAL ECONOMICS</td>\n",
       "      <td>Agriculture &amp; Natural Resources</td>\n",
       "      <td>33955.0</td>\n",
       "      <td>26321.0</td>\n",
       "      <td>22810.0</td>\n",
       "      <td>821.0</td>\n",
       "      <td>0.030248</td>\n",
       "      <td>63000.0</td>\n",
       "      <td>40000.0</td>\n",
       "      <td>98000.0</td>\n",
       "    </tr>\n",
       "    <tr>\n",
       "      <th>3</th>\n",
       "      <td>1103</td>\n",
       "      <td>ANIMAL SCIENCES</td>\n",
       "      <td>Agriculture &amp; Natural Resources</td>\n",
       "      <td>103549.0</td>\n",
       "      <td>81177.0</td>\n",
       "      <td>64937.0</td>\n",
       "      <td>3619.0</td>\n",
       "      <td>0.042679</td>\n",
       "      <td>46000.0</td>\n",
       "      <td>30000.0</td>\n",
       "      <td>72000.0</td>\n",
       "    </tr>\n",
       "    <tr>\n",
       "      <th>4</th>\n",
       "      <td>1104</td>\n",
       "      <td>FOOD SCIENCE</td>\n",
       "      <td>Agriculture &amp; Natural Resources</td>\n",
       "      <td>24280.0</td>\n",
       "      <td>17281.0</td>\n",
       "      <td>12722.0</td>\n",
       "      <td>894.0</td>\n",
       "      <td>0.049188</td>\n",
       "      <td>62000.0</td>\n",
       "      <td>38500.0</td>\n",
       "      <td>90000.0</td>\n",
       "    </tr>\n",
       "  </tbody>\n",
       "</table>\n",
       "</div>"
      ],
      "text/plain": [
       "  Major_code                                  Major  \\\n",
       "0       1100                    GENERAL AGRICULTURE   \n",
       "1       1101  AGRICULTURE PRODUCTION AND MANAGEMENT   \n",
       "2       1102                 AGRICULTURAL ECONOMICS   \n",
       "3       1103                        ANIMAL SCIENCES   \n",
       "4       1104                           FOOD SCIENCE   \n",
       "\n",
       "                    Major_category     Total  Employed  \\\n",
       "0  Agriculture & Natural Resources  128148.0   90245.0   \n",
       "1  Agriculture & Natural Resources   95326.0   76865.0   \n",
       "2  Agriculture & Natural Resources   33955.0   26321.0   \n",
       "3  Agriculture & Natural Resources  103549.0   81177.0   \n",
       "4  Agriculture & Natural Resources   24280.0   17281.0   \n",
       "\n",
       "   Employed_full_time_year_round  Unemployed  Unemployment_rate   Median  \\\n",
       "0                        74078.0      2423.0           0.026147  50000.0   \n",
       "1                        64240.0      2266.0           0.028636  54000.0   \n",
       "2                        22810.0       821.0           0.030248  63000.0   \n",
       "3                        64937.0      3619.0           0.042679  46000.0   \n",
       "4                        12722.0       894.0           0.049188  62000.0   \n",
       "\n",
       "     P25th    P75th  \n",
       "0  34000.0  80000.0  \n",
       "1  36000.0  80000.0  \n",
       "2  40000.0  98000.0  \n",
       "3  30000.0  72000.0  \n",
       "4  38500.0  90000.0  "
      ]
     },
     "execution_count": 3,
     "metadata": {},
     "output_type": "execute_result"
    }
   ],
   "source": [
    "import pandas as pd\n",
    "\n",
    "all_ages = pd.read_csv(\"all-ages.csv\")\n",
    "recent_grads = pd.read_csv(\"recent-grads.csv\")\n",
    "all_ages.head()\n"
   ]
  },
  {
   "cell_type": "code",
   "execution_count": 6,
   "metadata": {},
   "outputs": [
    {
     "data": {
      "text/html": [
       "<div>\n",
       "<style scoped>\n",
       "    .dataframe tbody tr th:only-of-type {\n",
       "        vertical-align: middle;\n",
       "    }\n",
       "\n",
       "    .dataframe tbody tr th {\n",
       "        vertical-align: top;\n",
       "    }\n",
       "\n",
       "    .dataframe thead th {\n",
       "        text-align: right;\n",
       "    }\n",
       "</style>\n",
       "<table border=\"1\" class=\"dataframe\">\n",
       "  <thead>\n",
       "    <tr style=\"text-align: right;\">\n",
       "      <th></th>\n",
       "      <th>Rank</th>\n",
       "      <th>Major_code</th>\n",
       "      <th>Major</th>\n",
       "      <th>Major_category</th>\n",
       "      <th>Total</th>\n",
       "      <th>Sample_size</th>\n",
       "      <th>Men</th>\n",
       "      <th>Women</th>\n",
       "      <th>ShareWomen</th>\n",
       "      <th>Employed</th>\n",
       "      <th>...</th>\n",
       "      <th>Part_time</th>\n",
       "      <th>Full_time_year_round</th>\n",
       "      <th>Unemployed</th>\n",
       "      <th>Unemployment_rate</th>\n",
       "      <th>Median</th>\n",
       "      <th>P25th</th>\n",
       "      <th>P75th</th>\n",
       "      <th>College_jobs</th>\n",
       "      <th>Non_college_jobs</th>\n",
       "      <th>Low_wage_jobs</th>\n",
       "    </tr>\n",
       "  </thead>\n",
       "  <tbody>\n",
       "    <tr>\n",
       "      <th>0</th>\n",
       "      <td>1</td>\n",
       "      <td>2419.0</td>\n",
       "      <td>PETROLEUM ENGINEERING</td>\n",
       "      <td>Engineering</td>\n",
       "      <td>2339.0</td>\n",
       "      <td>36.0</td>\n",
       "      <td>2057.0</td>\n",
       "      <td>282.0</td>\n",
       "      <td>0.120564</td>\n",
       "      <td>1976.0</td>\n",
       "      <td>...</td>\n",
       "      <td>270.0</td>\n",
       "      <td>1207.0</td>\n",
       "      <td>37.0</td>\n",
       "      <td>0.018381</td>\n",
       "      <td>110000.0</td>\n",
       "      <td>95000.0</td>\n",
       "      <td>125000.0</td>\n",
       "      <td>1534.0</td>\n",
       "      <td>364.0</td>\n",
       "      <td>193.0</td>\n",
       "    </tr>\n",
       "    <tr>\n",
       "      <th>1</th>\n",
       "      <td>2</td>\n",
       "      <td>2416.0</td>\n",
       "      <td>MINING AND MINERAL ENGINEERING</td>\n",
       "      <td>Engineering</td>\n",
       "      <td>756.0</td>\n",
       "      <td>7.0</td>\n",
       "      <td>679.0</td>\n",
       "      <td>77.0</td>\n",
       "      <td>0.101852</td>\n",
       "      <td>640.0</td>\n",
       "      <td>...</td>\n",
       "      <td>170.0</td>\n",
       "      <td>388.0</td>\n",
       "      <td>85.0</td>\n",
       "      <td>0.117241</td>\n",
       "      <td>75000.0</td>\n",
       "      <td>55000.0</td>\n",
       "      <td>90000.0</td>\n",
       "      <td>350.0</td>\n",
       "      <td>257.0</td>\n",
       "      <td>50.0</td>\n",
       "    </tr>\n",
       "    <tr>\n",
       "      <th>2</th>\n",
       "      <td>3</td>\n",
       "      <td>2415.0</td>\n",
       "      <td>METALLURGICAL ENGINEERING</td>\n",
       "      <td>Engineering</td>\n",
       "      <td>856.0</td>\n",
       "      <td>3.0</td>\n",
       "      <td>725.0</td>\n",
       "      <td>131.0</td>\n",
       "      <td>0.153037</td>\n",
       "      <td>648.0</td>\n",
       "      <td>...</td>\n",
       "      <td>133.0</td>\n",
       "      <td>340.0</td>\n",
       "      <td>16.0</td>\n",
       "      <td>0.024096</td>\n",
       "      <td>73000.0</td>\n",
       "      <td>50000.0</td>\n",
       "      <td>105000.0</td>\n",
       "      <td>456.0</td>\n",
       "      <td>176.0</td>\n",
       "      <td>0.0</td>\n",
       "    </tr>\n",
       "    <tr>\n",
       "      <th>3</th>\n",
       "      <td>4</td>\n",
       "      <td>2417.0</td>\n",
       "      <td>NAVAL ARCHITECTURE AND MARINE ENGINEERING</td>\n",
       "      <td>Engineering</td>\n",
       "      <td>1258.0</td>\n",
       "      <td>16.0</td>\n",
       "      <td>1123.0</td>\n",
       "      <td>135.0</td>\n",
       "      <td>0.107313</td>\n",
       "      <td>758.0</td>\n",
       "      <td>...</td>\n",
       "      <td>150.0</td>\n",
       "      <td>692.0</td>\n",
       "      <td>40.0</td>\n",
       "      <td>0.050125</td>\n",
       "      <td>70000.0</td>\n",
       "      <td>43000.0</td>\n",
       "      <td>80000.0</td>\n",
       "      <td>529.0</td>\n",
       "      <td>102.0</td>\n",
       "      <td>0.0</td>\n",
       "    </tr>\n",
       "    <tr>\n",
       "      <th>4</th>\n",
       "      <td>5</td>\n",
       "      <td>2405.0</td>\n",
       "      <td>CHEMICAL ENGINEERING</td>\n",
       "      <td>Engineering</td>\n",
       "      <td>32260.0</td>\n",
       "      <td>289.0</td>\n",
       "      <td>21239.0</td>\n",
       "      <td>11021.0</td>\n",
       "      <td>0.341631</td>\n",
       "      <td>25694.0</td>\n",
       "      <td>...</td>\n",
       "      <td>5180.0</td>\n",
       "      <td>16697.0</td>\n",
       "      <td>1672.0</td>\n",
       "      <td>0.061098</td>\n",
       "      <td>65000.0</td>\n",
       "      <td>50000.0</td>\n",
       "      <td>75000.0</td>\n",
       "      <td>18314.0</td>\n",
       "      <td>4440.0</td>\n",
       "      <td>972.0</td>\n",
       "    </tr>\n",
       "  </tbody>\n",
       "</table>\n",
       "<p>5 rows × 21 columns</p>\n",
       "</div>"
      ],
      "text/plain": [
       "  Rank  Major_code                                      Major Major_category  \\\n",
       "0    1      2419.0                      PETROLEUM ENGINEERING    Engineering   \n",
       "1    2      2416.0             MINING AND MINERAL ENGINEERING    Engineering   \n",
       "2    3      2415.0                  METALLURGICAL ENGINEERING    Engineering   \n",
       "3    4      2417.0  NAVAL ARCHITECTURE AND MARINE ENGINEERING    Engineering   \n",
       "4    5      2405.0                       CHEMICAL ENGINEERING    Engineering   \n",
       "\n",
       "     Total  Sample_size      Men    Women  ShareWomen  Employed  ...  \\\n",
       "0   2339.0         36.0   2057.0    282.0    0.120564    1976.0  ...   \n",
       "1    756.0          7.0    679.0     77.0    0.101852     640.0  ...   \n",
       "2    856.0          3.0    725.0    131.0    0.153037     648.0  ...   \n",
       "3   1258.0         16.0   1123.0    135.0    0.107313     758.0  ...   \n",
       "4  32260.0        289.0  21239.0  11021.0    0.341631   25694.0  ...   \n",
       "\n",
       "   Part_time  Full_time_year_round  Unemployed  Unemployment_rate    Median  \\\n",
       "0      270.0                1207.0        37.0           0.018381  110000.0   \n",
       "1      170.0                 388.0        85.0           0.117241   75000.0   \n",
       "2      133.0                 340.0        16.0           0.024096   73000.0   \n",
       "3      150.0                 692.0        40.0           0.050125   70000.0   \n",
       "4     5180.0               16697.0      1672.0           0.061098   65000.0   \n",
       "\n",
       "     P25th     P75th  College_jobs  Non_college_jobs  Low_wage_jobs  \n",
       "0  95000.0  125000.0        1534.0             364.0          193.0  \n",
       "1  55000.0   90000.0         350.0             257.0           50.0  \n",
       "2  50000.0  105000.0         456.0             176.0            0.0  \n",
       "3  43000.0   80000.0         529.0             102.0            0.0  \n",
       "4  50000.0   75000.0       18314.0            4440.0          972.0  \n",
       "\n",
       "[5 rows x 21 columns]"
      ]
     },
     "execution_count": 6,
     "metadata": {},
     "output_type": "execute_result"
    }
   ],
   "source": [
    "recent_grads.head()"
   ]
  },
  {
   "cell_type": "markdown",
   "metadata": {},
   "source": [
    "Nombre d'étudiants par catégorie de major"
   ]
  },
  {
   "cell_type": "markdown",
   "metadata": {},
   "source": [
    "- Retourner les valeurs uniques de Major_category\n",
    "\n",
    "- Utiliser la methode Series.unique() pour retourner les valeurs uniques d'une Series"
   ]
  },
  {
   "cell_type": "code",
   "execution_count": 7,
   "metadata": {},
   "outputs": [
    {
     "data": {
      "text/plain": [
       "0      Agriculture & Natural Resources\n",
       "1      Agriculture & Natural Resources\n",
       "2      Agriculture & Natural Resources\n",
       "3      Agriculture & Natural Resources\n",
       "4      Agriculture & Natural Resources\n",
       "                    ...               \n",
       "168                           Business\n",
       "169                           Business\n",
       "170                           Business\n",
       "171          Humanities & Liberal Arts\n",
       "172          Humanities & Liberal Arts\n",
       "Name: Major_category, Length: 173, dtype: object"
      ]
     },
     "execution_count": 7,
     "metadata": {},
     "output_type": "execute_result"
    }
   ],
   "source": [
    "all_ages[\"Major_category\"]"
   ]
  },
  {
   "cell_type": "code",
   "execution_count": 8,
   "metadata": {},
   "outputs": [
    {
     "data": {
      "text/plain": [
       "array(['Agriculture & Natural Resources', 'Biology & Life Science',\n",
       "       'Engineering', 'Humanities & Liberal Arts',\n",
       "       'Communications & Journalism', 'Computers & Mathematics',\n",
       "       'Industrial Arts & Consumer Services', 'Education',\n",
       "       'Law & Public Policy', 'Interdisciplinary', 'Health',\n",
       "       'Social Science', 'Physical Sciences', nan,\n",
       "       'Psychology & Social Work', 'Arts', 'Business'], dtype=object)"
      ]
     },
     "execution_count": 8,
     "metadata": {},
     "output_type": "execute_result"
    }
   ],
   "source": [
    "all_ages[\"Major_category\"].unique()"
   ]
  },
  {
   "cell_type": "markdown",
   "metadata": {},
   "source": [
    "Pour chaque valeur unique (utilisation d'une boucle for ?)\n",
    "\n",
    "    - Retourner toutes les lignes ou Major_category vaut cette valeur unique.\n",
    "    \n",
    "    - Calculer le nombre total d'étudiants representant cette categorie de major (colonne total à sommer)\n",
    "    \n",
    "    - Vous garderez en mémoire ce resultat sous la forme d'un dictionnaire contenant une Major_category en clé et le nombre d'étudiants en valeur."
   ]
  },
  {
   "cell_type": "code",
   "execution_count": 9,
   "metadata": {},
   "outputs": [
    {
     "data": {
      "text/plain": [
       "6771464.0"
      ]
     },
     "execution_count": 9,
     "metadata": {},
     "output_type": "execute_result"
    }
   ],
   "source": [
    "recent_grads[\"Total\"].sum()"
   ]
  },
  {
   "cell_type": "markdown",
   "metadata": {},
   "source": [
    "MISSION\n",
    "\n",
    "    - Créer une fonction dans laquelle vous utiliserez la colonne Total pour calculer le nombre d'étutiants pour chaque catégorie de Major (Major_category) dans chaque DataSet.\n",
    "    \n",
    "    - Stocker le resultat dans 2 dictionnaires distincts.\n",
    "    \n",
    "    - La clé pour chaque dictionnaire sera Major_category et la valeur le total d'étudiants.\n",
    "    \n",
    "    -Pour le dataset all_ages, stocker le resultat dans un dictionnaire qu'on nommera rg_cat_counts\n",
    "    \n",
    "    - Pour le Dataset recent_grads, stocker le resultat dans un dictionnaire qu'on nommera rg_cat_counts\n",
    "    Autre méthode : Utiliser un pivot de table\n"
   ]
  },
  {
   "cell_type": "markdown",
   "metadata": {},
   "source": [
    "Afficher les 2 dictionnaires"
   ]
  },
  {
   "cell_type": "code",
   "execution_count": 10,
   "metadata": {},
   "outputs": [],
   "source": [
    "def calculate_major_cat_totals(df):\n",
    "    cats = df[\"Major_category\"].unique()\n",
    "    counts_dictionary = dict()\n",
    "    \n",
    "    for c in cats:\n",
    "        major_df = df[df[\"Major_category\"] == c]\n",
    "        total = major_df[\"Total\"].sum()\n",
    "        counts_dictionary[c] = total \n",
    "    return counts_dictionary"
   ]
  },
  {
   "cell_type": "code",
   "execution_count": 13,
   "metadata": {
    "scrolled": true
   },
   "outputs": [
    {
     "name": "stdout",
     "output_type": "stream",
     "text": [
      "{'Agriculture & Natural Resources': 632437.0, 'Biology & Life Science': 1338186.0, 'Engineering': 3576013.0, 'Humanities & Liberal Arts': 3738335.0, 'Communications & Journalism': 1803822.0, 'Computers & Mathematics': 1781378.0, 'Industrial Arts & Consumer Services': 1018072.0, 'Education': 4700118.0, 'Law & Public Policy': 902926.0, 'Interdisciplinary': 45199.0, 'Health': 2950859.0, 'Social Science': 2654125.0, 'Physical Sciences': 1013152.0, nan: 0.0, 'Psychology & Social Work': 1987278.0, 'Arts': 1805865.0, 'Business': 9858741.0}\n"
     ]
    }
   ],
   "source": [
    "aa_cat_counts = dict()\n",
    "\n",
    "aa_cat_counts = calculate_major_cat_totals(all_ages)\n",
    "\n",
    "print(aa_cat_counts)"
   ]
  },
  {
   "cell_type": "code",
   "execution_count": 14,
   "metadata": {},
   "outputs": [
    {
     "name": "stdout",
     "output_type": "stream",
     "text": [
      "{'Engineering': 537583.0, 'Business': 1302376.0, 'Physical Sciences': 183363.0, 'Law & Public Policy': 179107.0, 'Computers & Mathematics': 299008.0, 'Agriculture & Natural Resources': 79981.0, 'Industrial Arts & Consumer Services': 227357.0, 'Arts': 357130.0, 'Health': 463230.0, 'Social Science': 529966.0, nan: 0.0, 'Biology & Life Science': 453862.0, 'Education': 559129.0, 'Humanities & Liberal Arts': 713468.0, 'Psychology & Social Work': 481007.0, 'Communications & Journalism': 392601.0, 'Interdisciplinary': 12296.0}\n"
     ]
    }
   ],
   "source": [
    "rg_cat_counts = dict()\n",
    "\n",
    "rg_cat_counts = calculate_major_cat_totals(recent_grads)\n",
    "\n",
    "print(rg_cat_counts)"
   ]
  },
  {
   "cell_type": "code",
   "execution_count": 11,
   "metadata": {
    "scrolled": true
   },
   "outputs": [
    {
     "data": {
      "text/plain": [
       "{'Total': Major_category\n",
       " Agriculture & Natural Resources         632437.0\n",
       " Arts                                   1805865.0\n",
       " Biology & Life Science                 1338186.0\n",
       " Business                               9858741.0\n",
       " Communications & Journalism            1803822.0\n",
       " Computers & Mathematics                1781378.0\n",
       " Education                              4700118.0\n",
       " Engineering                            3576013.0\n",
       " Health                                 2950859.0\n",
       " Humanities & Liberal Arts              3738335.0\n",
       " Industrial Arts & Consumer Services    1018072.0\n",
       " Interdisciplinary                        45199.0\n",
       " Law & Public Policy                     902926.0\n",
       " Physical Sciences                      1013152.0\n",
       " Psychology & Social Work               1987278.0\n",
       " Social Science                         2654125.0\n",
       " Name: Total, dtype: float64}"
      ]
     },
     "execution_count": 11,
     "metadata": {},
     "output_type": "execute_result"
    }
   ],
   "source": [
    "import numpy as np\n",
    "# autre facon avec un pivot de table\n",
    "aa_cat_counts = dict(all_ages.pivot_table(index=\"Major_category\", values=\"Total\", aggfunc=np.sum))\n",
    "aa_cat_counts"
   ]
  },
  {
   "cell_type": "markdown",
   "metadata": {},
   "source": [
    "# Taux de jobs à faible salaire"
   ]
  },
  {
   "cell_type": "markdown",
   "metadata": {},
   "source": [
    "Utiliser les colonnes \"Low_wage_jobs\" et \"Total\" pour calculer la proportion de jeunes diplomés qui ont du trouver des jobs à faible salaire (recent_grads)\n",
    "\n",
    "-Souvenez-vous que vous pouvez utiliser la méthode Series.sum() pour retourner la somme des valeurs d'une colonne.\n",
    "Stocker le resultat dans la variable low_wage_proportion et afficher le."
   ]
  },
  {
   "cell_type": "code",
   "execution_count": 13,
   "metadata": {},
   "outputs": [
    {
     "name": "stdout",
     "output_type": "stream",
     "text": [
      "0.09856140415130317\n"
     ]
    }
   ],
   "source": [
    "low_wage_jobs_sum = recent_grads[\"Low_wage_jobs\"].sum()\n",
    "\n",
    "recent_grads_sum = recent_grads[\"Total\"].sum()\n",
    "\n",
    "low_wage_proportion = low_wage_jobs_sum/recent_grads_sum\n",
    "\n",
    "print(low_wage_proportion)\n"
   ]
  },
  {
   "cell_type": "markdown",
   "metadata": {},
   "source": [
    "# Alignement des données"
   ]
  },
  {
   "cell_type": "code",
   "execution_count": 22,
   "metadata": {},
   "outputs": [],
   "source": [
    "# Les objets series s'alignent avec les index\n",
    "\n",
    "# Les DataFrames avec les index et les colonnes"
   ]
  },
  {
   "cell_type": "markdown",
   "metadata": {},
   "source": [
    "- Créer la Series rt_critics qui index les valeurs des notes de la colonne RottenTomatoes(notes des critiques) avec comme index le nom des films (colonne FILM)"
   ]
  },
  {
   "cell_type": "markdown",
   "metadata": {},
   "source": [
    "- Créer la Series rt_users qui index les valeurs des notes de la colonne RottenTomatoes_User (note des utilisateurs) avec comme index le nom des films (colonne FILM)"
   ]
  },
  {
   "cell_type": "markdown",
   "metadata": {},
   "source": [
    "- rt_critics et rt_users sont donc 2 objets Series contenant la moyenne des notes des critiques et des utilisateurs pour chaque film"
   ]
  },
  {
   "cell_type": "markdown",
   "metadata": {},
   "source": [
    "- Puisque chaque Series utilise le meme index (correspondant aux noms des films), utiliser des operations mathematiques pour retourner la moyenne des notes des critiques et des utilisateurs pour chaque film."
   ]
  },
  {
   "cell_type": "markdown",
   "metadata": {},
   "source": [
    "- Assigner la Series résultante à la variable rt_mean"
   ]
  },
  {
   "cell_type": "markdown",
   "metadata": {},
   "source": [
    "- Afficher le resultat "
   ]
  },
  {
   "cell_type": "code",
   "execution_count": 14,
   "metadata": {},
   "outputs": [],
   "source": [
    "import pandas as pd\n",
    "import numpy as np\n",
    "from pandas import Series\n",
    "\n",
    "fandango = pd.read_csv(\"fandango_score_comparison.csv\")"
   ]
  },
  {
   "cell_type": "code",
   "execution_count": 15,
   "metadata": {},
   "outputs": [
    {
     "data": {
      "text/plain": [
       "FILM\n",
       "Avengers: Age of Ultron (2015)                74\n",
       "Cinderella (2015)                             85\n",
       "Ant-Man (2015)                                80\n",
       "Do You Believe? (2015)                        18\n",
       "Hot Tub Time Machine 2 (2015)                 14\n",
       "                                            ... \n",
       "Mr. Holmes (2015)                             87\n",
       "'71 (2015)                                    97\n",
       "Two Days, One Night (2014)                    97\n",
       "Gett: The Trial of Viviane Amsalem (2015)    100\n",
       "Kumiko, The Treasure Hunter (2015)            87\n",
       "Length: 146, dtype: int64"
      ]
     },
     "execution_count": 15,
     "metadata": {},
     "output_type": "execute_result"
    }
   ],
   "source": [
    "# Series(data = c'est les valeurs que l'on souhaite ici les notes index = on souhaite le nom des films)\n",
    "# La Data doit toujours etre mise en valeur le nom des films c'est pas important (ce sont des chaines de caracteres) mais les valeurs des notes (il faut ajouter l'attribut values)\n",
    "rt_critics = Series(fandango[\"RottenTomatoes\"].values, index=fandango[\"FILM\"])\n",
    "rt_users = Series(fandango[\"RottenTomatoes_User\"].values, index=fandango[\"FILM\"])\n",
    "\n",
    "# Nous obtenons deux objets Series\n",
    "rt_critics"
   ]
  },
  {
   "cell_type": "code",
   "execution_count": 16,
   "metadata": {},
   "outputs": [
    {
     "data": {
      "text/plain": [
       "FILM\n",
       "Avengers: Age of Ultron (2015)               86\n",
       "Cinderella (2015)                            80\n",
       "Ant-Man (2015)                               90\n",
       "Do You Believe? (2015)                       84\n",
       "Hot Tub Time Machine 2 (2015)                28\n",
       "                                             ..\n",
       "Mr. Holmes (2015)                            78\n",
       "'71 (2015)                                   82\n",
       "Two Days, One Night (2014)                   78\n",
       "Gett: The Trial of Viviane Amsalem (2015)    81\n",
       "Kumiko, The Treasure Hunter (2015)           63\n",
       "Length: 146, dtype: int64"
      ]
     },
     "execution_count": 16,
     "metadata": {},
     "output_type": "execute_result"
    }
   ],
   "source": [
    "rt_users"
   ]
  },
  {
   "cell_type": "code",
   "execution_count": 19,
   "metadata": {},
   "outputs": [
    {
     "name": "stdout",
     "output_type": "stream",
     "text": [
      "FILM\n",
      "Avengers: Age of Ultron (2015)               80.0\n",
      "Cinderella (2015)                            82.5\n",
      "Ant-Man (2015)                               85.0\n",
      "Do You Believe? (2015)                       51.0\n",
      "Hot Tub Time Machine 2 (2015)                21.0\n",
      "                                             ... \n",
      "Mr. Holmes (2015)                            82.5\n",
      "'71 (2015)                                   89.5\n",
      "Two Days, One Night (2014)                   87.5\n",
      "Gett: The Trial of Viviane Amsalem (2015)    90.5\n",
      "Kumiko, The Treasure Hunter (2015)           75.0\n",
      "Length: 146, dtype: float64\n"
     ]
    }
   ],
   "source": [
    "# Calcul de la moyenne entre les deux notes\n",
    "rt_mean = (rt_critics + rt_users)/2\n",
    "# La moyenne c'est la sommes des deux objets / 2\n",
    "\n",
    "print(rt_mean)"
   ]
  },
  {
   "cell_type": "markdown",
   "metadata": {},
   "source": [
    "# Utiliser des index entier pour selectionner des lignes"
   ]
  },
  {
   "cell_type": "markdown",
   "metadata": {},
   "source": [
    "(PRATIQUE)"
   ]
  },
  {
   "cell_type": "markdown",
   "metadata": {},
   "source": [
    "Lire le dataset \"fandango_score_comparison2\" dans le DataFrame fandango.\n",
    "\n",
    "Retourner un DataFrame contenant seulement la premiere et la derniere ligne et assigner le resultat à la variable first_last.\n",
    "\n",
    "Afficher le resultat (et faire une patite variante)"
   ]
  },
  {
   "cell_type": "code",
   "execution_count": 25,
   "metadata": {},
   "outputs": [
    {
     "name": "stdout",
     "output_type": "stream",
     "text": [
      "0\n"
     ]
    }
   ],
   "source": [
    "import pandas as pd\n",
    "\n",
    "fandango = pd.read_csv(\"fandango_score_comparison2.csv\")\n",
    "\n",
    "first = 0\n",
    "last = fandango.shape[0] - 1\n",
    "first_last = fandango.iloc[[first, last]]\n",
    "print(first)"
   ]
  },
  {
   "cell_type": "code",
   "execution_count": 26,
   "metadata": {},
   "outputs": [
    {
     "name": "stdout",
     "output_type": "stream",
     "text": [
      "145\n"
     ]
    }
   ],
   "source": [
    "print(last)"
   ]
  },
  {
   "cell_type": "code",
   "execution_count": 27,
   "metadata": {},
   "outputs": [
    {
     "data": {
      "text/html": [
       "<div>\n",
       "<style scoped>\n",
       "    .dataframe tbody tr th:only-of-type {\n",
       "        vertical-align: middle;\n",
       "    }\n",
       "\n",
       "    .dataframe tbody tr th {\n",
       "        vertical-align: top;\n",
       "    }\n",
       "\n",
       "    .dataframe thead th {\n",
       "        text-align: right;\n",
       "    }\n",
       "</style>\n",
       "<table border=\"1\" class=\"dataframe\">\n",
       "  <thead>\n",
       "    <tr style=\"text-align: right;\">\n",
       "      <th></th>\n",
       "      <th>FILM</th>\n",
       "      <th>RottenTomatoes</th>\n",
       "      <th>RottenTomatoes_User</th>\n",
       "      <th>Metacritic</th>\n",
       "      <th>Metacritic_User</th>\n",
       "      <th>IMDB</th>\n",
       "      <th>Fandango_Stars</th>\n",
       "      <th>Fandango_Ratingvalue</th>\n",
       "      <th>RT_norm</th>\n",
       "      <th>RT_user_norm</th>\n",
       "      <th>...</th>\n",
       "      <th>IMDB_norm</th>\n",
       "      <th>RT_norm_round</th>\n",
       "      <th>RT_user_norm_round</th>\n",
       "      <th>Metacritic_norm_round</th>\n",
       "      <th>Metacritic_user_norm_round</th>\n",
       "      <th>IMDB_norm_round</th>\n",
       "      <th>Metacritic_user_vote_count</th>\n",
       "      <th>IMDB_user_vote_count</th>\n",
       "      <th>Fandango_votes</th>\n",
       "      <th>Fandango_Difference</th>\n",
       "    </tr>\n",
       "  </thead>\n",
       "  <tbody>\n",
       "    <tr>\n",
       "      <th>0</th>\n",
       "      <td>Avengers: Age of Ultron (2015)</td>\n",
       "      <td>74</td>\n",
       "      <td>86</td>\n",
       "      <td>66</td>\n",
       "      <td>7.1</td>\n",
       "      <td>7.8</td>\n",
       "      <td>5.0</td>\n",
       "      <td>4.5</td>\n",
       "      <td>3.70</td>\n",
       "      <td>4.30</td>\n",
       "      <td>...</td>\n",
       "      <td>3.90</td>\n",
       "      <td>3.5</td>\n",
       "      <td>4.5</td>\n",
       "      <td>3.5</td>\n",
       "      <td>3.5</td>\n",
       "      <td>4.0</td>\n",
       "      <td>1330</td>\n",
       "      <td>271107</td>\n",
       "      <td>14846</td>\n",
       "      <td>0.5</td>\n",
       "    </tr>\n",
       "    <tr>\n",
       "      <th>145</th>\n",
       "      <td>Kumiko, The Treasure Hunter (2015)</td>\n",
       "      <td>87</td>\n",
       "      <td>63</td>\n",
       "      <td>68</td>\n",
       "      <td>6.4</td>\n",
       "      <td>6.7</td>\n",
       "      <td>3.5</td>\n",
       "      <td>3.5</td>\n",
       "      <td>4.35</td>\n",
       "      <td>3.15</td>\n",
       "      <td>...</td>\n",
       "      <td>3.35</td>\n",
       "      <td>4.5</td>\n",
       "      <td>3.0</td>\n",
       "      <td>3.5</td>\n",
       "      <td>3.0</td>\n",
       "      <td>3.5</td>\n",
       "      <td>19</td>\n",
       "      <td>5289</td>\n",
       "      <td>41</td>\n",
       "      <td>0.0</td>\n",
       "    </tr>\n",
       "  </tbody>\n",
       "</table>\n",
       "<p>2 rows × 22 columns</p>\n",
       "</div>"
      ],
      "text/plain": [
       "                                   FILM  RottenTomatoes  RottenTomatoes_User  \\\n",
       "0        Avengers: Age of Ultron (2015)              74                   86   \n",
       "145  Kumiko, The Treasure Hunter (2015)              87                   63   \n",
       "\n",
       "     Metacritic  Metacritic_User  IMDB  Fandango_Stars  Fandango_Ratingvalue  \\\n",
       "0            66              7.1   7.8             5.0                   4.5   \n",
       "145          68              6.4   6.7             3.5                   3.5   \n",
       "\n",
       "     RT_norm  RT_user_norm  ...  IMDB_norm  RT_norm_round  RT_user_norm_round  \\\n",
       "0       3.70          4.30  ...       3.90            3.5                 4.5   \n",
       "145     4.35          3.15  ...       3.35            4.5                 3.0   \n",
       "\n",
       "     Metacritic_norm_round  Metacritic_user_norm_round  IMDB_norm_round  \\\n",
       "0                      3.5                         3.5              4.0   \n",
       "145                    3.5                         3.0              3.5   \n",
       "\n",
       "     Metacritic_user_vote_count  IMDB_user_vote_count  Fandango_votes  \\\n",
       "0                          1330                271107           14846   \n",
       "145                          19                  5289              41   \n",
       "\n",
       "     Fandango_Difference  \n",
       "0                    0.5  \n",
       "145                  0.0  \n",
       "\n",
       "[2 rows x 22 columns]"
      ]
     },
     "execution_count": 27,
     "metadata": {},
     "output_type": "execute_result"
    }
   ],
   "source": [
    "first_last"
   ]
  },
  {
   "cell_type": "code",
   "execution_count": 30,
   "metadata": {},
   "outputs": [
    {
     "data": {
      "text/html": [
       "<div>\n",
       "<style scoped>\n",
       "    .dataframe tbody tr th:only-of-type {\n",
       "        vertical-align: middle;\n",
       "    }\n",
       "\n",
       "    .dataframe tbody tr th {\n",
       "        vertical-align: top;\n",
       "    }\n",
       "\n",
       "    .dataframe thead th {\n",
       "        text-align: right;\n",
       "    }\n",
       "</style>\n",
       "<table border=\"1\" class=\"dataframe\">\n",
       "  <thead>\n",
       "    <tr style=\"text-align: right;\">\n",
       "      <th></th>\n",
       "      <th>FILM</th>\n",
       "      <th>RottenTomatoes</th>\n",
       "      <th>RottenTomatoes_User</th>\n",
       "      <th>Metacritic</th>\n",
       "      <th>Metacritic_User</th>\n",
       "      <th>IMDB</th>\n",
       "      <th>Fandango_Stars</th>\n",
       "      <th>Fandango_Ratingvalue</th>\n",
       "      <th>RT_norm</th>\n",
       "      <th>RT_user_norm</th>\n",
       "      <th>...</th>\n",
       "      <th>IMDB_norm</th>\n",
       "      <th>RT_norm_round</th>\n",
       "      <th>RT_user_norm_round</th>\n",
       "      <th>Metacritic_norm_round</th>\n",
       "      <th>Metacritic_user_norm_round</th>\n",
       "      <th>IMDB_norm_round</th>\n",
       "      <th>Metacritic_user_vote_count</th>\n",
       "      <th>IMDB_user_vote_count</th>\n",
       "      <th>Fandango_votes</th>\n",
       "      <th>Fandango_Difference</th>\n",
       "    </tr>\n",
       "  </thead>\n",
       "  <tbody>\n",
       "    <tr>\n",
       "      <th>0</th>\n",
       "      <td>Avengers: Age of Ultron (2015)</td>\n",
       "      <td>74</td>\n",
       "      <td>86</td>\n",
       "      <td>66</td>\n",
       "      <td>7.1</td>\n",
       "      <td>7.8</td>\n",
       "      <td>5.0</td>\n",
       "      <td>4.5</td>\n",
       "      <td>3.70</td>\n",
       "      <td>4.30</td>\n",
       "      <td>...</td>\n",
       "      <td>3.90</td>\n",
       "      <td>3.5</td>\n",
       "      <td>4.5</td>\n",
       "      <td>3.5</td>\n",
       "      <td>3.5</td>\n",
       "      <td>4.0</td>\n",
       "      <td>1330</td>\n",
       "      <td>271107</td>\n",
       "      <td>14846</td>\n",
       "      <td>0.5</td>\n",
       "    </tr>\n",
       "    <tr>\n",
       "      <th>145</th>\n",
       "      <td>Kumiko, The Treasure Hunter (2015)</td>\n",
       "      <td>87</td>\n",
       "      <td>63</td>\n",
       "      <td>68</td>\n",
       "      <td>6.4</td>\n",
       "      <td>6.7</td>\n",
       "      <td>3.5</td>\n",
       "      <td>3.5</td>\n",
       "      <td>4.35</td>\n",
       "      <td>3.15</td>\n",
       "      <td>...</td>\n",
       "      <td>3.35</td>\n",
       "      <td>4.5</td>\n",
       "      <td>3.0</td>\n",
       "      <td>3.5</td>\n",
       "      <td>3.0</td>\n",
       "      <td>3.5</td>\n",
       "      <td>19</td>\n",
       "      <td>5289</td>\n",
       "      <td>41</td>\n",
       "      <td>0.0</td>\n",
       "    </tr>\n",
       "  </tbody>\n",
       "</table>\n",
       "<p>2 rows × 22 columns</p>\n",
       "</div>"
      ],
      "text/plain": [
       "                                   FILM  RottenTomatoes  RottenTomatoes_User  \\\n",
       "0        Avengers: Age of Ultron (2015)              74                   86   \n",
       "145  Kumiko, The Treasure Hunter (2015)              87                   63   \n",
       "\n",
       "     Metacritic  Metacritic_User  IMDB  Fandango_Stars  Fandango_Ratingvalue  \\\n",
       "0            66              7.1   7.8             5.0                   4.5   \n",
       "145          68              6.4   6.7             3.5                   3.5   \n",
       "\n",
       "     RT_norm  RT_user_norm  ...  IMDB_norm  RT_norm_round  RT_user_norm_round  \\\n",
       "0       3.70          4.30  ...       3.90            3.5                 4.5   \n",
       "145     4.35          3.15  ...       3.35            4.5                 3.0   \n",
       "\n",
       "     Metacritic_norm_round  Metacritic_user_norm_round  IMDB_norm_round  \\\n",
       "0                      3.5                         3.5              4.0   \n",
       "145                    3.5                         3.0              3.5   \n",
       "\n",
       "     Metacritic_user_vote_count  IMDB_user_vote_count  Fandango_votes  \\\n",
       "0                          1330                271107           14846   \n",
       "145                          19                  5289              41   \n",
       "\n",
       "     Fandango_Difference  \n",
       "0                    0.5  \n",
       "145                  0.0  \n",
       "\n",
       "[2 rows x 22 columns]"
      ]
     },
     "execution_count": 30,
     "metadata": {},
     "output_type": "execute_result"
    }
   ],
   "source": [
    "second_version = fandango.iloc[[0, 145]]\n",
    "second_version"
   ]
  },
  {
   "cell_type": "markdown",
   "metadata": {},
   "source": [
    "# Utiliser des index personnalisés (PRATIQUE)"
   ]
  },
  {
   "cell_type": "markdown",
   "metadata": {},
   "source": [
    "\n",
    "    - Utiliser la méthode set_index pour indéxer notre DataFrame fandango avec la colonne \"FILM\".\n",
    "    \n",
    "    - A préciser que nous souhaitons conserver la colonne \"FILM\".\n",
    "    \n",
    "    - De plus nous souhaitions garder le DataFrame d'origine et en créer un nouveau que nous assignerons à la variable fandango_films."
   ]
  },
  {
   "cell_type": "markdown",
   "metadata": {},
   "source": [
    "    - Afficher l'index du DataFrame fandango_films à l'aide de l'attribut index."
   ]
  },
  {
   "cell_type": "code",
   "execution_count": 23,
   "metadata": {},
   "outputs": [
    {
     "name": "stdout",
     "output_type": "stream",
     "text": [
      "Index(['Avengers: Age of Ultron (2015)', 'Cinderella (2015)', 'Ant-Man (2015)',\n",
      "       'Do You Believe? (2015)', 'Hot Tub Time Machine 2 (2015)',\n",
      "       'The Water Diviner (2015)', 'Irrational Man (2015)', 'Top Five (2014)',\n",
      "       'Shaun the Sheep Movie (2015)', 'Love & Mercy (2015)',\n",
      "       ...\n",
      "       'The Woman In Black 2 Angel of Death (2015)', 'Danny Collins (2015)',\n",
      "       'Spare Parts (2015)', 'Serena (2015)', 'Inside Out (2015)',\n",
      "       'Mr. Holmes (2015)', ''71 (2015)', 'Two Days, One Night (2014)',\n",
      "       'Gett: The Trial of Viviane Amsalem (2015)',\n",
      "       'Kumiko, The Treasure Hunter (2015)'],\n",
      "      dtype='object', name='FILM', length=146)\n"
     ]
    }
   ],
   "source": [
    "# DataFrame.set_index(Series, inplace = True, drop = False)\n",
    "fandango_films = fandango.set_index(\"FILM\", drop = False)\n",
    "print(fandango_films.index)"
   ]
  },
  {
   "cell_type": "code",
   "execution_count": 44,
   "metadata": {},
   "outputs": [
    {
     "data": {
      "text/html": [
       "<div>\n",
       "<style scoped>\n",
       "    .dataframe tbody tr th:only-of-type {\n",
       "        vertical-align: middle;\n",
       "    }\n",
       "\n",
       "    .dataframe tbody tr th {\n",
       "        vertical-align: top;\n",
       "    }\n",
       "\n",
       "    .dataframe thead th {\n",
       "        text-align: right;\n",
       "    }\n",
       "</style>\n",
       "<table border=\"1\" class=\"dataframe\">\n",
       "  <thead>\n",
       "    <tr style=\"text-align: right;\">\n",
       "      <th></th>\n",
       "      <th>FILM</th>\n",
       "      <th>RottenTomatoes</th>\n",
       "      <th>RottenTomatoes_User</th>\n",
       "      <th>Metacritic</th>\n",
       "      <th>Metacritic_User</th>\n",
       "      <th>IMDB</th>\n",
       "      <th>Fandango_Stars</th>\n",
       "      <th>Fandango_Ratingvalue</th>\n",
       "      <th>RT_norm</th>\n",
       "      <th>RT_user_norm</th>\n",
       "      <th>...</th>\n",
       "      <th>IMDB_norm</th>\n",
       "      <th>RT_norm_round</th>\n",
       "      <th>RT_user_norm_round</th>\n",
       "      <th>Metacritic_norm_round</th>\n",
       "      <th>Metacritic_user_norm_round</th>\n",
       "      <th>IMDB_norm_round</th>\n",
       "      <th>Metacritic_user_vote_count</th>\n",
       "      <th>IMDB_user_vote_count</th>\n",
       "      <th>Fandango_votes</th>\n",
       "      <th>Fandango_Difference</th>\n",
       "    </tr>\n",
       "  </thead>\n",
       "  <tbody>\n",
       "    <tr>\n",
       "      <th>0</th>\n",
       "      <td>Avengers: Age of Ultron (2015)</td>\n",
       "      <td>74</td>\n",
       "      <td>86</td>\n",
       "      <td>66</td>\n",
       "      <td>7.1</td>\n",
       "      <td>7.8</td>\n",
       "      <td>5.0</td>\n",
       "      <td>4.5</td>\n",
       "      <td>3.70</td>\n",
       "      <td>4.3</td>\n",
       "      <td>...</td>\n",
       "      <td>3.90</td>\n",
       "      <td>3.5</td>\n",
       "      <td>4.5</td>\n",
       "      <td>3.5</td>\n",
       "      <td>3.5</td>\n",
       "      <td>4.0</td>\n",
       "      <td>1330</td>\n",
       "      <td>271107</td>\n",
       "      <td>14846</td>\n",
       "      <td>0.5</td>\n",
       "    </tr>\n",
       "    <tr>\n",
       "      <th>1</th>\n",
       "      <td>Cinderella (2015)</td>\n",
       "      <td>85</td>\n",
       "      <td>80</td>\n",
       "      <td>67</td>\n",
       "      <td>7.5</td>\n",
       "      <td>7.1</td>\n",
       "      <td>5.0</td>\n",
       "      <td>4.5</td>\n",
       "      <td>4.25</td>\n",
       "      <td>4.0</td>\n",
       "      <td>...</td>\n",
       "      <td>3.55</td>\n",
       "      <td>4.5</td>\n",
       "      <td>4.0</td>\n",
       "      <td>3.5</td>\n",
       "      <td>4.0</td>\n",
       "      <td>3.5</td>\n",
       "      <td>249</td>\n",
       "      <td>65709</td>\n",
       "      <td>12640</td>\n",
       "      <td>0.5</td>\n",
       "    </tr>\n",
       "  </tbody>\n",
       "</table>\n",
       "<p>2 rows × 22 columns</p>\n",
       "</div>"
      ],
      "text/plain": [
       "                             FILM  RottenTomatoes  RottenTomatoes_User  \\\n",
       "0  Avengers: Age of Ultron (2015)              74                   86   \n",
       "1               Cinderella (2015)              85                   80   \n",
       "\n",
       "   Metacritic  Metacritic_User  IMDB  Fandango_Stars  Fandango_Ratingvalue  \\\n",
       "0          66              7.1   7.8             5.0                   4.5   \n",
       "1          67              7.5   7.1             5.0                   4.5   \n",
       "\n",
       "   RT_norm  RT_user_norm  ...  IMDB_norm  RT_norm_round  RT_user_norm_round  \\\n",
       "0     3.70           4.3  ...       3.90            3.5                 4.5   \n",
       "1     4.25           4.0  ...       3.55            4.5                 4.0   \n",
       "\n",
       "   Metacritic_norm_round  Metacritic_user_norm_round  IMDB_norm_round  \\\n",
       "0                    3.5                         3.5              4.0   \n",
       "1                    3.5                         4.0              3.5   \n",
       "\n",
       "   Metacritic_user_vote_count  IMDB_user_vote_count  Fandango_votes  \\\n",
       "0                        1330                271107           14846   \n",
       "1                         249                 65709           12640   \n",
       "\n",
       "   Fandango_Difference  \n",
       "0                  0.5  \n",
       "1                  0.5  \n",
       "\n",
       "[2 rows x 22 columns]"
      ]
     },
     "execution_count": 44,
     "metadata": {},
     "output_type": "execute_result"
    }
   ],
   "source": [
    "fandango.head(2)"
   ]
  },
  {
   "cell_type": "code",
   "execution_count": 46,
   "metadata": {},
   "outputs": [
    {
     "data": {
      "text/html": [
       "<div>\n",
       "<style scoped>\n",
       "    .dataframe tbody tr th:only-of-type {\n",
       "        vertical-align: middle;\n",
       "    }\n",
       "\n",
       "    .dataframe tbody tr th {\n",
       "        vertical-align: top;\n",
       "    }\n",
       "\n",
       "    .dataframe thead th {\n",
       "        text-align: right;\n",
       "    }\n",
       "</style>\n",
       "<table border=\"1\" class=\"dataframe\">\n",
       "  <thead>\n",
       "    <tr style=\"text-align: right;\">\n",
       "      <th></th>\n",
       "      <th>FILM</th>\n",
       "      <th>RottenTomatoes</th>\n",
       "      <th>RottenTomatoes_User</th>\n",
       "      <th>Metacritic</th>\n",
       "      <th>Metacritic_User</th>\n",
       "      <th>IMDB</th>\n",
       "      <th>Fandango_Stars</th>\n",
       "      <th>Fandango_Ratingvalue</th>\n",
       "      <th>RT_norm</th>\n",
       "      <th>RT_user_norm</th>\n",
       "      <th>...</th>\n",
       "      <th>IMDB_norm</th>\n",
       "      <th>RT_norm_round</th>\n",
       "      <th>RT_user_norm_round</th>\n",
       "      <th>Metacritic_norm_round</th>\n",
       "      <th>Metacritic_user_norm_round</th>\n",
       "      <th>IMDB_norm_round</th>\n",
       "      <th>Metacritic_user_vote_count</th>\n",
       "      <th>IMDB_user_vote_count</th>\n",
       "      <th>Fandango_votes</th>\n",
       "      <th>Fandango_Difference</th>\n",
       "    </tr>\n",
       "    <tr>\n",
       "      <th>FILM</th>\n",
       "      <th></th>\n",
       "      <th></th>\n",
       "      <th></th>\n",
       "      <th></th>\n",
       "      <th></th>\n",
       "      <th></th>\n",
       "      <th></th>\n",
       "      <th></th>\n",
       "      <th></th>\n",
       "      <th></th>\n",
       "      <th></th>\n",
       "      <th></th>\n",
       "      <th></th>\n",
       "      <th></th>\n",
       "      <th></th>\n",
       "      <th></th>\n",
       "      <th></th>\n",
       "      <th></th>\n",
       "      <th></th>\n",
       "      <th></th>\n",
       "      <th></th>\n",
       "    </tr>\n",
       "  </thead>\n",
       "  <tbody>\n",
       "    <tr>\n",
       "      <th>Avengers: Age of Ultron (2015)</th>\n",
       "      <td>Avengers: Age of Ultron (2015)</td>\n",
       "      <td>74</td>\n",
       "      <td>86</td>\n",
       "      <td>66</td>\n",
       "      <td>7.1</td>\n",
       "      <td>7.8</td>\n",
       "      <td>5.0</td>\n",
       "      <td>4.5</td>\n",
       "      <td>3.70</td>\n",
       "      <td>4.3</td>\n",
       "      <td>...</td>\n",
       "      <td>3.90</td>\n",
       "      <td>3.5</td>\n",
       "      <td>4.5</td>\n",
       "      <td>3.5</td>\n",
       "      <td>3.5</td>\n",
       "      <td>4.0</td>\n",
       "      <td>1330</td>\n",
       "      <td>271107</td>\n",
       "      <td>14846</td>\n",
       "      <td>0.5</td>\n",
       "    </tr>\n",
       "    <tr>\n",
       "      <th>Cinderella (2015)</th>\n",
       "      <td>Cinderella (2015)</td>\n",
       "      <td>85</td>\n",
       "      <td>80</td>\n",
       "      <td>67</td>\n",
       "      <td>7.5</td>\n",
       "      <td>7.1</td>\n",
       "      <td>5.0</td>\n",
       "      <td>4.5</td>\n",
       "      <td>4.25</td>\n",
       "      <td>4.0</td>\n",
       "      <td>...</td>\n",
       "      <td>3.55</td>\n",
       "      <td>4.5</td>\n",
       "      <td>4.0</td>\n",
       "      <td>3.5</td>\n",
       "      <td>4.0</td>\n",
       "      <td>3.5</td>\n",
       "      <td>249</td>\n",
       "      <td>65709</td>\n",
       "      <td>12640</td>\n",
       "      <td>0.5</td>\n",
       "    </tr>\n",
       "  </tbody>\n",
       "</table>\n",
       "<p>2 rows × 22 columns</p>\n",
       "</div>"
      ],
      "text/plain": [
       "                                                          FILM  \\\n",
       "FILM                                                             \n",
       "Avengers: Age of Ultron (2015)  Avengers: Age of Ultron (2015)   \n",
       "Cinderella (2015)                            Cinderella (2015)   \n",
       "\n",
       "                                RottenTomatoes  RottenTomatoes_User  \\\n",
       "FILM                                                                  \n",
       "Avengers: Age of Ultron (2015)              74                   86   \n",
       "Cinderella (2015)                           85                   80   \n",
       "\n",
       "                                Metacritic  Metacritic_User  IMDB  \\\n",
       "FILM                                                                \n",
       "Avengers: Age of Ultron (2015)          66              7.1   7.8   \n",
       "Cinderella (2015)                       67              7.5   7.1   \n",
       "\n",
       "                                Fandango_Stars  Fandango_Ratingvalue  RT_norm  \\\n",
       "FILM                                                                            \n",
       "Avengers: Age of Ultron (2015)             5.0                   4.5     3.70   \n",
       "Cinderella (2015)                          5.0                   4.5     4.25   \n",
       "\n",
       "                                RT_user_norm  ...  IMDB_norm  RT_norm_round  \\\n",
       "FILM                                          ...                             \n",
       "Avengers: Age of Ultron (2015)           4.3  ...       3.90            3.5   \n",
       "Cinderella (2015)                        4.0  ...       3.55            4.5   \n",
       "\n",
       "                                RT_user_norm_round  Metacritic_norm_round  \\\n",
       "FILM                                                                        \n",
       "Avengers: Age of Ultron (2015)                 4.5                    3.5   \n",
       "Cinderella (2015)                              4.0                    3.5   \n",
       "\n",
       "                                Metacritic_user_norm_round  IMDB_norm_round  \\\n",
       "FILM                                                                          \n",
       "Avengers: Age of Ultron (2015)                         3.5              4.0   \n",
       "Cinderella (2015)                                      4.0              3.5   \n",
       "\n",
       "                                Metacritic_user_vote_count  \\\n",
       "FILM                                                         \n",
       "Avengers: Age of Ultron (2015)                        1330   \n",
       "Cinderella (2015)                                      249   \n",
       "\n",
       "                                IMDB_user_vote_count  Fandango_votes  \\\n",
       "FILM                                                                   \n",
       "Avengers: Age of Ultron (2015)                271107           14846   \n",
       "Cinderella (2015)                              65709           12640   \n",
       "\n",
       "                                Fandango_Difference  \n",
       "FILM                                                 \n",
       "Avengers: Age of Ultron (2015)                  0.5  \n",
       "Cinderella (2015)                               0.5  \n",
       "\n",
       "[2 rows x 22 columns]"
      ]
     },
     "execution_count": 46,
     "metadata": {},
     "output_type": "execute_result"
    }
   ],
   "source": [
    "fandango_films.head(2)"
   ]
  },
  {
   "cell_type": "markdown",
   "metadata": {},
   "source": [
    "# Sélectionner des valeurs depuis un index personnalisé (PRATIQUE)"
   ]
  },
  {
   "cell_type": "markdown",
   "metadata": {},
   "source": [
    "Selectionner les films suivants depuis le DataFrame fandango_films (dans l'ordre suivant) et assigner les à la variable some_movies:\n",
    "\n",
    "\"Top Five (2014)\", \"Black Sea (2015)\", \"Takken 3 (2015)\"\n",
    "\n",
    "Afficher le résultat"
   ]
  },
  {
   "cell_type": "code",
   "execution_count": 47,
   "metadata": {},
   "outputs": [
    {
     "data": {
      "text/plain": [
       "['Top Five (2014)', 'Black Sea (2015)', 'Taken 3 (2015)']"
      ]
     },
     "execution_count": 47,
     "metadata": {},
     "output_type": "execute_result"
    }
   ],
   "source": [
    "movies = [\"Top Five (2014)\", \"Black Sea (2015)\", \"Taken 3 (2015)\"]\n",
    "movies"
   ]
  },
  {
   "cell_type": "code",
   "execution_count": 48,
   "metadata": {},
   "outputs": [
    {
     "data": {
      "text/html": [
       "<div>\n",
       "<style scoped>\n",
       "    .dataframe tbody tr th:only-of-type {\n",
       "        vertical-align: middle;\n",
       "    }\n",
       "\n",
       "    .dataframe tbody tr th {\n",
       "        vertical-align: top;\n",
       "    }\n",
       "\n",
       "    .dataframe thead th {\n",
       "        text-align: right;\n",
       "    }\n",
       "</style>\n",
       "<table border=\"1\" class=\"dataframe\">\n",
       "  <thead>\n",
       "    <tr style=\"text-align: right;\">\n",
       "      <th></th>\n",
       "      <th>FILM</th>\n",
       "      <th>RottenTomatoes</th>\n",
       "      <th>RottenTomatoes_User</th>\n",
       "      <th>Metacritic</th>\n",
       "      <th>Metacritic_User</th>\n",
       "      <th>IMDB</th>\n",
       "      <th>Fandango_Stars</th>\n",
       "      <th>Fandango_Ratingvalue</th>\n",
       "      <th>RT_norm</th>\n",
       "      <th>RT_user_norm</th>\n",
       "      <th>...</th>\n",
       "      <th>IMDB_norm</th>\n",
       "      <th>RT_norm_round</th>\n",
       "      <th>RT_user_norm_round</th>\n",
       "      <th>Metacritic_norm_round</th>\n",
       "      <th>Metacritic_user_norm_round</th>\n",
       "      <th>IMDB_norm_round</th>\n",
       "      <th>Metacritic_user_vote_count</th>\n",
       "      <th>IMDB_user_vote_count</th>\n",
       "      <th>Fandango_votes</th>\n",
       "      <th>Fandango_Difference</th>\n",
       "    </tr>\n",
       "    <tr>\n",
       "      <th>FILM</th>\n",
       "      <th></th>\n",
       "      <th></th>\n",
       "      <th></th>\n",
       "      <th></th>\n",
       "      <th></th>\n",
       "      <th></th>\n",
       "      <th></th>\n",
       "      <th></th>\n",
       "      <th></th>\n",
       "      <th></th>\n",
       "      <th></th>\n",
       "      <th></th>\n",
       "      <th></th>\n",
       "      <th></th>\n",
       "      <th></th>\n",
       "      <th></th>\n",
       "      <th></th>\n",
       "      <th></th>\n",
       "      <th></th>\n",
       "      <th></th>\n",
       "      <th></th>\n",
       "    </tr>\n",
       "  </thead>\n",
       "  <tbody>\n",
       "    <tr>\n",
       "      <th>Top Five (2014)</th>\n",
       "      <td>Top Five (2014)</td>\n",
       "      <td>86</td>\n",
       "      <td>64</td>\n",
       "      <td>81</td>\n",
       "      <td>6.8</td>\n",
       "      <td>6.5</td>\n",
       "      <td>4.0</td>\n",
       "      <td>3.5</td>\n",
       "      <td>4.30</td>\n",
       "      <td>3.2</td>\n",
       "      <td>...</td>\n",
       "      <td>3.25</td>\n",
       "      <td>4.5</td>\n",
       "      <td>3.0</td>\n",
       "      <td>4.0</td>\n",
       "      <td>3.5</td>\n",
       "      <td>3.5</td>\n",
       "      <td>124</td>\n",
       "      <td>16876</td>\n",
       "      <td>3223</td>\n",
       "      <td>0.5</td>\n",
       "    </tr>\n",
       "    <tr>\n",
       "      <th>Black Sea (2015)</th>\n",
       "      <td>Black Sea (2015)</td>\n",
       "      <td>82</td>\n",
       "      <td>60</td>\n",
       "      <td>62</td>\n",
       "      <td>6.6</td>\n",
       "      <td>6.4</td>\n",
       "      <td>4.0</td>\n",
       "      <td>3.5</td>\n",
       "      <td>4.10</td>\n",
       "      <td>3.0</td>\n",
       "      <td>...</td>\n",
       "      <td>3.20</td>\n",
       "      <td>4.0</td>\n",
       "      <td>3.0</td>\n",
       "      <td>3.0</td>\n",
       "      <td>3.5</td>\n",
       "      <td>3.0</td>\n",
       "      <td>37</td>\n",
       "      <td>16547</td>\n",
       "      <td>218</td>\n",
       "      <td>0.5</td>\n",
       "    </tr>\n",
       "    <tr>\n",
       "      <th>Taken 3 (2015)</th>\n",
       "      <td>Taken 3 (2015)</td>\n",
       "      <td>9</td>\n",
       "      <td>46</td>\n",
       "      <td>26</td>\n",
       "      <td>4.6</td>\n",
       "      <td>6.1</td>\n",
       "      <td>4.5</td>\n",
       "      <td>4.1</td>\n",
       "      <td>0.45</td>\n",
       "      <td>2.3</td>\n",
       "      <td>...</td>\n",
       "      <td>3.05</td>\n",
       "      <td>0.5</td>\n",
       "      <td>2.5</td>\n",
       "      <td>1.5</td>\n",
       "      <td>2.5</td>\n",
       "      <td>3.0</td>\n",
       "      <td>240</td>\n",
       "      <td>104235</td>\n",
       "      <td>6757</td>\n",
       "      <td>0.4</td>\n",
       "    </tr>\n",
       "  </tbody>\n",
       "</table>\n",
       "<p>3 rows × 22 columns</p>\n",
       "</div>"
      ],
      "text/plain": [
       "                              FILM  RottenTomatoes  RottenTomatoes_User  \\\n",
       "FILM                                                                      \n",
       "Top Five (2014)    Top Five (2014)              86                   64   \n",
       "Black Sea (2015)  Black Sea (2015)              82                   60   \n",
       "Taken 3 (2015)      Taken 3 (2015)               9                   46   \n",
       "\n",
       "                  Metacritic  Metacritic_User  IMDB  Fandango_Stars  \\\n",
       "FILM                                                                  \n",
       "Top Five (2014)           81              6.8   6.5             4.0   \n",
       "Black Sea (2015)          62              6.6   6.4             4.0   \n",
       "Taken 3 (2015)            26              4.6   6.1             4.5   \n",
       "\n",
       "                  Fandango_Ratingvalue  RT_norm  RT_user_norm  ...  IMDB_norm  \\\n",
       "FILM                                                           ...              \n",
       "Top Five (2014)                    3.5     4.30           3.2  ...       3.25   \n",
       "Black Sea (2015)                   3.5     4.10           3.0  ...       3.20   \n",
       "Taken 3 (2015)                     4.1     0.45           2.3  ...       3.05   \n",
       "\n",
       "                  RT_norm_round  RT_user_norm_round  Metacritic_norm_round  \\\n",
       "FILM                                                                         \n",
       "Top Five (2014)             4.5                 3.0                    4.0   \n",
       "Black Sea (2015)            4.0                 3.0                    3.0   \n",
       "Taken 3 (2015)              0.5                 2.5                    1.5   \n",
       "\n",
       "                  Metacritic_user_norm_round  IMDB_norm_round  \\\n",
       "FILM                                                            \n",
       "Top Five (2014)                          3.5              3.5   \n",
       "Black Sea (2015)                         3.5              3.0   \n",
       "Taken 3 (2015)                           2.5              3.0   \n",
       "\n",
       "                  Metacritic_user_vote_count  IMDB_user_vote_count  \\\n",
       "FILM                                                                 \n",
       "Top Five (2014)                          124                 16876   \n",
       "Black Sea (2015)                          37                 16547   \n",
       "Taken 3 (2015)                           240                104235   \n",
       "\n",
       "                  Fandango_votes  Fandango_Difference  \n",
       "FILM                                                   \n",
       "Top Five (2014)             3223                  0.5  \n",
       "Black Sea (2015)             218                  0.5  \n",
       "Taken 3 (2015)              6757                  0.4  \n",
       "\n",
       "[3 rows x 22 columns]"
      ]
     },
     "execution_count": 48,
     "metadata": {},
     "output_type": "execute_result"
    }
   ],
   "source": [
    "fandango_films.loc[movies]"
   ]
  },
  {
   "cell_type": "markdown",
   "metadata": {},
   "source": [
    "# unrate.csv ets les courbes avec Pandas"
   ]
  },
  {
   "cell_type": "markdown",
   "metadata": {},
   "source": [
    "- Lire \"unrate.csv\" dans un DataFrame et assigner ce résultat à la variable unrate.\n",
    "    \n",
    "    - Utiliser la fonction pandas.to_datetime() pour convertir la colonne 'DATE' en valeur datetime.\n",
    "    \n",
    "    - Afficher les 12 premières valeurs de unrate correspondant à une année entière."
   ]
  },
  {
   "cell_type": "code",
   "execution_count": null,
   "metadata": {},
   "outputs": [],
   "source": []
  },
  {
   "cell_type": "code",
   "execution_count": null,
   "metadata": {},
   "outputs": [],
   "source": []
  }
 ],
 "metadata": {
  "kernelspec": {
   "display_name": "Python 3",
   "language": "python",
   "name": "python3"
  },
  "language_info": {
   "codemirror_mode": {
    "name": "ipython",
    "version": 3
   },
   "file_extension": ".py",
   "mimetype": "text/x-python",
   "name": "python",
   "nbconvert_exporter": "python",
   "pygments_lexer": "ipython3",
   "version": "3.7.6"
  }
 },
 "nbformat": 4,
 "nbformat_minor": 4
}
